{
 "cells": [
  {
   "cell_type": "code",
   "execution_count": 2,
   "id": "4b41a2a7",
   "metadata": {},
   "outputs": [],
   "source": [
    "import os\n",
    "import pandas as pd\n",
    "from glob import glob\n",
    "# to use the reduce function for the img processing \n",
    "from functools import reduce\n",
    "# To read and perform operation on xml file\n",
    "from xml.etree import ElementTree as et"
   ]
  },
  {
   "cell_type": "code",
   "execution_count": 3,
   "id": "b07b4999-b6c2-4776-bc20-73a6db5578c9",
   "metadata": {},
   "outputs": [],
   "source": [
    "#Load all xml file and store it in a list\n",
    "xml_list=glob('./data_images/*.xml')"
   ]
  },
  {
   "cell_type": "code",
   "execution_count": 4,
   "id": "1a83bfb5-1e17-401c-9caf-2e61245b1675",
   "metadata": {},
   "outputs": [
    {
     "data": {
      "text/plain": [
       "['./data_images\\\\01.xml',\n",
       " './data_images\\\\02.xml',\n",
       " './data_images\\\\03.xml',\n",
       " './data_images\\\\04.xml',\n",
       " './data_images\\\\05.xml']"
      ]
     },
     "execution_count": 4,
     "metadata": {},
     "output_type": "execute_result"
    }
   ],
   "source": [
    "xml_list"
   ]
  },
  {
   "cell_type": "code",
   "execution_count": 5,
   "id": "516c8847-702c-4db6-bc3e-7963020130ed",
   "metadata": {},
   "outputs": [],
   "source": [
    "# Data Cleaning Part\n",
    "# 1. Replace \\\\ with /\n",
    "xmlfiles=list(map(lambda x: x.replace('\\\\','/'),xml_list))"
   ]
  },
  {
   "cell_type": "code",
   "execution_count": 6,
   "id": "52b0eef9-88eb-4202-a26c-0517f24f4f29",
   "metadata": {},
   "outputs": [
    {
     "data": {
      "text/plain": [
       "['./data_images/01.xml',\n",
       " './data_images/02.xml',\n",
       " './data_images/03.xml',\n",
       " './data_images/04.xml',\n",
       " './data_images/05.xml']"
      ]
     },
     "execution_count": 6,
     "metadata": {},
     "output_type": "execute_result"
    }
   ],
   "source": [
    "xmlfiles"
   ]
  },
  {
   "cell_type": "code",
   "execution_count": 7,
   "id": "f3e68d8d-a847-4367-9374-936ecd987e1a",
   "metadata": {},
   "outputs": [],
   "source": [
    "# Step 2: Read XML file to extract \n",
    "# 1. filename\n",
    "# 2. size(width,height)\n",
    "# 3. object(name,xmin,xmax,ymin,ymax)\n",
    "# Try for the single image\n",
    "def extract_text(filename):\n",
    "    tree=et.parse(filename)\n",
    "    root=tree.getroot()\n",
    "    \n",
    "    #Extract filename\n",
    "    image_name=root.find('filename').text\n",
    "    # width and height of the image\n",
    "    width=root.find('size').find('width').text\n",
    "    height=root.find('size').find('height').text\n",
    "    objs = root.findall('object')\n",
    "    parser=[]\n",
    "    for obj in objs:\n",
    "        name=obj.find('name').text\n",
    "        bndbox=obj.find('bndbox')\n",
    "        xmin=bndbox.find('xmin').text\n",
    "        xmax=bndbox.find('xmax').text\n",
    "        ymin=bndbox.find('ymin').text\n",
    "        ymax=bndbox.find('ymax').text\n",
    "        parser.append([image_name,width,height,name,xmin,xmax,ymin,ymax])\n",
    "    \n",
    "    \n",
    "    return parser\n"
   ]
  },
  {
   "cell_type": "code",
   "execution_count": 8,
   "id": "9098e7b2-2727-4db9-885a-ad17058c8d43",
   "metadata": {},
   "outputs": [],
   "source": [
    "parser_all=list(map(extract_text,xmlfiles))"
   ]
  },
  {
   "cell_type": "code",
   "execution_count": 9,
   "id": "8d0addc3-9975-487a-a77d-4000b8db9a7d",
   "metadata": {},
   "outputs": [
    {
     "data": {
      "text/plain": [
       "[[['01.jpg', '1024', '684', 'man', '98', '350', '150', '530'],\n",
       "  ['01.jpg', '1024', '684', 'man', '321', '658', '94', '684'],\n",
       "  ['01.jpg', '1024', '684', 'women', '666', '896', '116', '663'],\n",
       "  ['01.jpg', '1024', '684', 'women', '904', '1024', '56', '539']],\n",
       " [['02.jpg', '2048', '1661', 'car', '110', '1892', '171', '1576'],\n",
       "  ['02.jpg', '2048', '1661', 'man', '1703', '1808', '325', '540'],\n",
       "  ['02.jpg', '2048', '1661', 'car', '1844', '1972', '350', '530']],\n",
       " [['03.jpg', '640', '480', 'car', '21', '635', '103', '392']],\n",
       " [['04.jpg', '2048', '1536', 'car', '21', '2033', '898', '1465']],\n",
       " [['05.jpg', '2048', '1301', 'car', '299', '1703', '591', '1137']]]"
      ]
     },
     "execution_count": 9,
     "metadata": {},
     "output_type": "execute_result"
    }
   ],
   "source": [
    "parser_all"
   ]
  },
  {
   "cell_type": "code",
   "execution_count": 10,
   "id": "f2d90aca-84f7-46e3-8086-c5d3270e717b",
   "metadata": {},
   "outputs": [],
   "source": [
    "# we had got the result in multidimentional format so to convert it  into plane form we do following operation\n",
    "data=reduce(lambda x,y:x+y,parser_all)"
   ]
  },
  {
   "cell_type": "code",
   "execution_count": 11,
   "id": "f88f8c31-894b-422a-8951-8b4e214f3709",
   "metadata": {},
   "outputs": [
    {
     "data": {
      "text/plain": [
       "[['01.jpg', '1024', '684', 'man', '98', '350', '150', '530'],\n",
       " ['01.jpg', '1024', '684', 'man', '321', '658', '94', '684'],\n",
       " ['01.jpg', '1024', '684', 'women', '666', '896', '116', '663'],\n",
       " ['01.jpg', '1024', '684', 'women', '904', '1024', '56', '539'],\n",
       " ['02.jpg', '2048', '1661', 'car', '110', '1892', '171', '1576'],\n",
       " ['02.jpg', '2048', '1661', 'man', '1703', '1808', '325', '540'],\n",
       " ['02.jpg', '2048', '1661', 'car', '1844', '1972', '350', '530'],\n",
       " ['03.jpg', '640', '480', 'car', '21', '635', '103', '392'],\n",
       " ['04.jpg', '2048', '1536', 'car', '21', '2033', '898', '1465'],\n",
       " ['05.jpg', '2048', '1301', 'car', '299', '1703', '591', '1137']]"
      ]
     },
     "execution_count": 11,
     "metadata": {},
     "output_type": "execute_result"
    }
   ],
   "source": [
    "data"
   ]
  },
  {
   "cell_type": "code",
   "execution_count": 12,
   "id": "d611a929-8590-40cb-886c-d161bc0001ab",
   "metadata": {},
   "outputs": [],
   "source": [
    "# Convert this into a dataframe\n",
    "df=pd.DataFrame(data,columns=['filename','width','height','name','xmin','xmax','ymin','ymax'])"
   ]
  },
  {
   "cell_type": "code",
   "execution_count": 13,
   "id": "5b530bb8-479c-49af-a6a7-83e626dfb170",
   "metadata": {},
   "outputs": [
    {
     "data": {
      "text/html": [
       "<div>\n",
       "<style scoped>\n",
       "    .dataframe tbody tr th:only-of-type {\n",
       "        vertical-align: middle;\n",
       "    }\n",
       "\n",
       "    .dataframe tbody tr th {\n",
       "        vertical-align: top;\n",
       "    }\n",
       "\n",
       "    .dataframe thead th {\n",
       "        text-align: right;\n",
       "    }\n",
       "</style>\n",
       "<table border=\"1\" class=\"dataframe\">\n",
       "  <thead>\n",
       "    <tr style=\"text-align: right;\">\n",
       "      <th></th>\n",
       "      <th>filename</th>\n",
       "      <th>width</th>\n",
       "      <th>height</th>\n",
       "      <th>name</th>\n",
       "      <th>xmin</th>\n",
       "      <th>xmax</th>\n",
       "      <th>ymin</th>\n",
       "      <th>ymax</th>\n",
       "    </tr>\n",
       "  </thead>\n",
       "  <tbody>\n",
       "    <tr>\n",
       "      <th>0</th>\n",
       "      <td>01.jpg</td>\n",
       "      <td>1024</td>\n",
       "      <td>684</td>\n",
       "      <td>man</td>\n",
       "      <td>98</td>\n",
       "      <td>350</td>\n",
       "      <td>150</td>\n",
       "      <td>530</td>\n",
       "    </tr>\n",
       "    <tr>\n",
       "      <th>1</th>\n",
       "      <td>01.jpg</td>\n",
       "      <td>1024</td>\n",
       "      <td>684</td>\n",
       "      <td>man</td>\n",
       "      <td>321</td>\n",
       "      <td>658</td>\n",
       "      <td>94</td>\n",
       "      <td>684</td>\n",
       "    </tr>\n",
       "    <tr>\n",
       "      <th>2</th>\n",
       "      <td>01.jpg</td>\n",
       "      <td>1024</td>\n",
       "      <td>684</td>\n",
       "      <td>women</td>\n",
       "      <td>666</td>\n",
       "      <td>896</td>\n",
       "      <td>116</td>\n",
       "      <td>663</td>\n",
       "    </tr>\n",
       "    <tr>\n",
       "      <th>3</th>\n",
       "      <td>01.jpg</td>\n",
       "      <td>1024</td>\n",
       "      <td>684</td>\n",
       "      <td>women</td>\n",
       "      <td>904</td>\n",
       "      <td>1024</td>\n",
       "      <td>56</td>\n",
       "      <td>539</td>\n",
       "    </tr>\n",
       "    <tr>\n",
       "      <th>4</th>\n",
       "      <td>02.jpg</td>\n",
       "      <td>2048</td>\n",
       "      <td>1661</td>\n",
       "      <td>car</td>\n",
       "      <td>110</td>\n",
       "      <td>1892</td>\n",
       "      <td>171</td>\n",
       "      <td>1576</td>\n",
       "    </tr>\n",
       "    <tr>\n",
       "      <th>5</th>\n",
       "      <td>02.jpg</td>\n",
       "      <td>2048</td>\n",
       "      <td>1661</td>\n",
       "      <td>man</td>\n",
       "      <td>1703</td>\n",
       "      <td>1808</td>\n",
       "      <td>325</td>\n",
       "      <td>540</td>\n",
       "    </tr>\n",
       "    <tr>\n",
       "      <th>6</th>\n",
       "      <td>02.jpg</td>\n",
       "      <td>2048</td>\n",
       "      <td>1661</td>\n",
       "      <td>car</td>\n",
       "      <td>1844</td>\n",
       "      <td>1972</td>\n",
       "      <td>350</td>\n",
       "      <td>530</td>\n",
       "    </tr>\n",
       "    <tr>\n",
       "      <th>7</th>\n",
       "      <td>03.jpg</td>\n",
       "      <td>640</td>\n",
       "      <td>480</td>\n",
       "      <td>car</td>\n",
       "      <td>21</td>\n",
       "      <td>635</td>\n",
       "      <td>103</td>\n",
       "      <td>392</td>\n",
       "    </tr>\n",
       "    <tr>\n",
       "      <th>8</th>\n",
       "      <td>04.jpg</td>\n",
       "      <td>2048</td>\n",
       "      <td>1536</td>\n",
       "      <td>car</td>\n",
       "      <td>21</td>\n",
       "      <td>2033</td>\n",
       "      <td>898</td>\n",
       "      <td>1465</td>\n",
       "    </tr>\n",
       "    <tr>\n",
       "      <th>9</th>\n",
       "      <td>05.jpg</td>\n",
       "      <td>2048</td>\n",
       "      <td>1301</td>\n",
       "      <td>car</td>\n",
       "      <td>299</td>\n",
       "      <td>1703</td>\n",
       "      <td>591</td>\n",
       "      <td>1137</td>\n",
       "    </tr>\n",
       "  </tbody>\n",
       "</table>\n",
       "</div>"
      ],
      "text/plain": [
       "  filename width height   name  xmin  xmax ymin  ymax\n",
       "0   01.jpg  1024    684    man    98   350  150   530\n",
       "1   01.jpg  1024    684    man   321   658   94   684\n",
       "2   01.jpg  1024    684  women   666   896  116   663\n",
       "3   01.jpg  1024    684  women   904  1024   56   539\n",
       "4   02.jpg  2048   1661    car   110  1892  171  1576\n",
       "5   02.jpg  2048   1661    man  1703  1808  325   540\n",
       "6   02.jpg  2048   1661    car  1844  1972  350   530\n",
       "7   03.jpg   640    480    car    21   635  103   392\n",
       "8   04.jpg  2048   1536    car    21  2033  898  1465\n",
       "9   05.jpg  2048   1301    car   299  1703  591  1137"
      ]
     },
     "execution_count": 13,
     "metadata": {},
     "output_type": "execute_result"
    }
   ],
   "source": [
    "df"
   ]
  },
  {
   "cell_type": "code",
   "execution_count": 14,
   "id": "f5b7c541-ae48-4959-9129-3670b516840a",
   "metadata": {},
   "outputs": [],
   "source": [
    "df=df.drop_duplicates()"
   ]
  },
  {
   "cell_type": "code",
   "execution_count": 15,
   "id": "38ba9ddb-00a0-40f6-8461-c6e7175f3168",
   "metadata": {},
   "outputs": [
    {
     "data": {
      "text/html": [
       "<div>\n",
       "<style scoped>\n",
       "    .dataframe tbody tr th:only-of-type {\n",
       "        vertical-align: middle;\n",
       "    }\n",
       "\n",
       "    .dataframe tbody tr th {\n",
       "        vertical-align: top;\n",
       "    }\n",
       "\n",
       "    .dataframe thead th {\n",
       "        text-align: right;\n",
       "    }\n",
       "</style>\n",
       "<table border=\"1\" class=\"dataframe\">\n",
       "  <thead>\n",
       "    <tr style=\"text-align: right;\">\n",
       "      <th></th>\n",
       "      <th>filename</th>\n",
       "      <th>width</th>\n",
       "      <th>height</th>\n",
       "      <th>name</th>\n",
       "      <th>xmin</th>\n",
       "      <th>xmax</th>\n",
       "      <th>ymin</th>\n",
       "      <th>ymax</th>\n",
       "    </tr>\n",
       "  </thead>\n",
       "  <tbody>\n",
       "    <tr>\n",
       "      <th>0</th>\n",
       "      <td>01.jpg</td>\n",
       "      <td>1024</td>\n",
       "      <td>684</td>\n",
       "      <td>man</td>\n",
       "      <td>98</td>\n",
       "      <td>350</td>\n",
       "      <td>150</td>\n",
       "      <td>530</td>\n",
       "    </tr>\n",
       "    <tr>\n",
       "      <th>1</th>\n",
       "      <td>01.jpg</td>\n",
       "      <td>1024</td>\n",
       "      <td>684</td>\n",
       "      <td>man</td>\n",
       "      <td>321</td>\n",
       "      <td>658</td>\n",
       "      <td>94</td>\n",
       "      <td>684</td>\n",
       "    </tr>\n",
       "    <tr>\n",
       "      <th>2</th>\n",
       "      <td>01.jpg</td>\n",
       "      <td>1024</td>\n",
       "      <td>684</td>\n",
       "      <td>women</td>\n",
       "      <td>666</td>\n",
       "      <td>896</td>\n",
       "      <td>116</td>\n",
       "      <td>663</td>\n",
       "    </tr>\n",
       "    <tr>\n",
       "      <th>3</th>\n",
       "      <td>01.jpg</td>\n",
       "      <td>1024</td>\n",
       "      <td>684</td>\n",
       "      <td>women</td>\n",
       "      <td>904</td>\n",
       "      <td>1024</td>\n",
       "      <td>56</td>\n",
       "      <td>539</td>\n",
       "    </tr>\n",
       "    <tr>\n",
       "      <th>4</th>\n",
       "      <td>02.jpg</td>\n",
       "      <td>2048</td>\n",
       "      <td>1661</td>\n",
       "      <td>car</td>\n",
       "      <td>110</td>\n",
       "      <td>1892</td>\n",
       "      <td>171</td>\n",
       "      <td>1576</td>\n",
       "    </tr>\n",
       "    <tr>\n",
       "      <th>5</th>\n",
       "      <td>02.jpg</td>\n",
       "      <td>2048</td>\n",
       "      <td>1661</td>\n",
       "      <td>man</td>\n",
       "      <td>1703</td>\n",
       "      <td>1808</td>\n",
       "      <td>325</td>\n",
       "      <td>540</td>\n",
       "    </tr>\n",
       "    <tr>\n",
       "      <th>6</th>\n",
       "      <td>02.jpg</td>\n",
       "      <td>2048</td>\n",
       "      <td>1661</td>\n",
       "      <td>car</td>\n",
       "      <td>1844</td>\n",
       "      <td>1972</td>\n",
       "      <td>350</td>\n",
       "      <td>530</td>\n",
       "    </tr>\n",
       "    <tr>\n",
       "      <th>7</th>\n",
       "      <td>03.jpg</td>\n",
       "      <td>640</td>\n",
       "      <td>480</td>\n",
       "      <td>car</td>\n",
       "      <td>21</td>\n",
       "      <td>635</td>\n",
       "      <td>103</td>\n",
       "      <td>392</td>\n",
       "    </tr>\n",
       "    <tr>\n",
       "      <th>8</th>\n",
       "      <td>04.jpg</td>\n",
       "      <td>2048</td>\n",
       "      <td>1536</td>\n",
       "      <td>car</td>\n",
       "      <td>21</td>\n",
       "      <td>2033</td>\n",
       "      <td>898</td>\n",
       "      <td>1465</td>\n",
       "    </tr>\n",
       "    <tr>\n",
       "      <th>9</th>\n",
       "      <td>05.jpg</td>\n",
       "      <td>2048</td>\n",
       "      <td>1301</td>\n",
       "      <td>car</td>\n",
       "      <td>299</td>\n",
       "      <td>1703</td>\n",
       "      <td>591</td>\n",
       "      <td>1137</td>\n",
       "    </tr>\n",
       "  </tbody>\n",
       "</table>\n",
       "</div>"
      ],
      "text/plain": [
       "  filename width height   name  xmin  xmax ymin  ymax\n",
       "0   01.jpg  1024    684    man    98   350  150   530\n",
       "1   01.jpg  1024    684    man   321   658   94   684\n",
       "2   01.jpg  1024    684  women   666   896  116   663\n",
       "3   01.jpg  1024    684  women   904  1024   56   539\n",
       "4   02.jpg  2048   1661    car   110  1892  171  1576\n",
       "5   02.jpg  2048   1661    man  1703  1808  325   540\n",
       "6   02.jpg  2048   1661    car  1844  1972  350   530\n",
       "7   03.jpg   640    480    car    21   635  103   392\n",
       "8   04.jpg  2048   1536    car    21  2033  898  1465\n",
       "9   05.jpg  2048   1301    car   299  1703  591  1137"
      ]
     },
     "execution_count": 15,
     "metadata": {},
     "output_type": "execute_result"
    }
   ],
   "source": [
    "df"
   ]
  },
  {
   "cell_type": "code",
   "execution_count": 16,
   "id": "0d7b15df-b9d5-48cd-ba79-2588bbf07e21",
   "metadata": {},
   "outputs": [
    {
     "data": {
      "text/plain": [
       "name\n",
       "car      5\n",
       "man      3\n",
       "women    2\n",
       "Name: count, dtype: int64"
      ]
     },
     "execution_count": 16,
     "metadata": {},
     "output_type": "execute_result"
    }
   ],
   "source": [
    "df['name'].value_counts()"
   ]
  },
  {
   "cell_type": "markdown",
   "id": "d0f34afa-c79f-40e9-a3b4-fec12a0fd79f",
   "metadata": {},
   "source": [
    "# Prepare Labels for YOLO model"
   ]
  },
  {
   "cell_type": "code",
   "execution_count": 17,
   "id": "2af01e85-0a6a-4b42-b59b-5ea8a944151f",
   "metadata": {},
   "outputs": [
    {
     "name": "stdout",
     "output_type": "stream",
     "text": [
      "<class 'pandas.core.frame.DataFrame'>\n",
      "RangeIndex: 10 entries, 0 to 9\n",
      "Data columns (total 8 columns):\n",
      " #   Column    Non-Null Count  Dtype \n",
      "---  ------    --------------  ----- \n",
      " 0   filename  10 non-null     object\n",
      " 1   width     10 non-null     object\n",
      " 2   height    10 non-null     object\n",
      " 3   name      10 non-null     object\n",
      " 4   xmin      10 non-null     object\n",
      " 5   xmax      10 non-null     object\n",
      " 6   ymin      10 non-null     object\n",
      " 7   ymax      10 non-null     object\n",
      "dtypes: object(8)\n",
      "memory usage: 768.0+ bytes\n"
     ]
    }
   ],
   "source": [
    "df.info()"
   ]
  },
  {
   "cell_type": "code",
   "execution_count": 18,
   "id": "ecf82888-ccfa-4278-8763-319d511fbe08",
   "metadata": {},
   "outputs": [
    {
     "name": "stdout",
     "output_type": "stream",
     "text": [
      "<class 'pandas.core.frame.DataFrame'>\n",
      "RangeIndex: 10 entries, 0 to 9\n",
      "Data columns (total 8 columns):\n",
      " #   Column    Non-Null Count  Dtype \n",
      "---  ------    --------------  ----- \n",
      " 0   filename  10 non-null     object\n",
      " 1   width     10 non-null     int32 \n",
      " 2   height    10 non-null     int32 \n",
      " 3   name      10 non-null     object\n",
      " 4   xmin      10 non-null     int32 \n",
      " 5   xmax      10 non-null     int32 \n",
      " 6   ymin      10 non-null     int32 \n",
      " 7   ymax      10 non-null     int32 \n",
      "dtypes: int32(6), object(2)\n",
      "memory usage: 528.0+ bytes\n"
     ]
    }
   ],
   "source": [
    "# As we requiire the width,height,xmin,ymin,xmax,ymax as a either integer or float so we will convert it \n",
    "# type conversion\n",
    "cols = ['width','height','xmin','xmax','ymin','ymax']\n",
    "df[cols] = df[cols].astype(int)\n",
    "df.info()"
   ]
  },
  {
   "cell_type": "code",
   "execution_count": 19,
   "id": "13b469a1-a19e-4b1d-985b-b51cbd5f2fd9",
   "metadata": {},
   "outputs": [],
   "source": [
    "# So next we will find out the require parameters \n",
    "# center x, center y\n",
    "df['center_x'] = ((df['xmax']+df['xmin'])/2)/df['width']\n",
    "df['center_y'] = ((df['ymax']+df['ymin'])/2)/df['height']\n",
    "# w \n",
    "df['w'] = (df['xmax']-df['xmin'])/df['width']\n",
    "# h \n",
    "df['h'] = (df['ymax']-df['ymin'])/df['height']"
   ]
  },
  {
   "cell_type": "code",
   "execution_count": 20,
   "id": "b0b73927-dd46-4d3f-ae1b-01ae71f2f2bb",
   "metadata": {},
   "outputs": [
    {
     "data": {
      "text/html": [
       "<div>\n",
       "<style scoped>\n",
       "    .dataframe tbody tr th:only-of-type {\n",
       "        vertical-align: middle;\n",
       "    }\n",
       "\n",
       "    .dataframe tbody tr th {\n",
       "        vertical-align: top;\n",
       "    }\n",
       "\n",
       "    .dataframe thead th {\n",
       "        text-align: right;\n",
       "    }\n",
       "</style>\n",
       "<table border=\"1\" class=\"dataframe\">\n",
       "  <thead>\n",
       "    <tr style=\"text-align: right;\">\n",
       "      <th></th>\n",
       "      <th>filename</th>\n",
       "      <th>width</th>\n",
       "      <th>height</th>\n",
       "      <th>name</th>\n",
       "      <th>xmin</th>\n",
       "      <th>xmax</th>\n",
       "      <th>ymin</th>\n",
       "      <th>ymax</th>\n",
       "      <th>center_x</th>\n",
       "      <th>center_y</th>\n",
       "      <th>w</th>\n",
       "      <th>h</th>\n",
       "    </tr>\n",
       "  </thead>\n",
       "  <tbody>\n",
       "    <tr>\n",
       "      <th>0</th>\n",
       "      <td>01.jpg</td>\n",
       "      <td>1024</td>\n",
       "      <td>684</td>\n",
       "      <td>man</td>\n",
       "      <td>98</td>\n",
       "      <td>350</td>\n",
       "      <td>150</td>\n",
       "      <td>530</td>\n",
       "      <td>0.218750</td>\n",
       "      <td>0.497076</td>\n",
       "      <td>0.246094</td>\n",
       "      <td>0.555556</td>\n",
       "    </tr>\n",
       "    <tr>\n",
       "      <th>1</th>\n",
       "      <td>01.jpg</td>\n",
       "      <td>1024</td>\n",
       "      <td>684</td>\n",
       "      <td>man</td>\n",
       "      <td>321</td>\n",
       "      <td>658</td>\n",
       "      <td>94</td>\n",
       "      <td>684</td>\n",
       "      <td>0.478027</td>\n",
       "      <td>0.568713</td>\n",
       "      <td>0.329102</td>\n",
       "      <td>0.862573</td>\n",
       "    </tr>\n",
       "    <tr>\n",
       "      <th>2</th>\n",
       "      <td>01.jpg</td>\n",
       "      <td>1024</td>\n",
       "      <td>684</td>\n",
       "      <td>women</td>\n",
       "      <td>666</td>\n",
       "      <td>896</td>\n",
       "      <td>116</td>\n",
       "      <td>663</td>\n",
       "      <td>0.762695</td>\n",
       "      <td>0.569444</td>\n",
       "      <td>0.224609</td>\n",
       "      <td>0.799708</td>\n",
       "    </tr>\n",
       "    <tr>\n",
       "      <th>3</th>\n",
       "      <td>01.jpg</td>\n",
       "      <td>1024</td>\n",
       "      <td>684</td>\n",
       "      <td>women</td>\n",
       "      <td>904</td>\n",
       "      <td>1024</td>\n",
       "      <td>56</td>\n",
       "      <td>539</td>\n",
       "      <td>0.941406</td>\n",
       "      <td>0.434942</td>\n",
       "      <td>0.117188</td>\n",
       "      <td>0.706140</td>\n",
       "    </tr>\n",
       "    <tr>\n",
       "      <th>4</th>\n",
       "      <td>02.jpg</td>\n",
       "      <td>2048</td>\n",
       "      <td>1661</td>\n",
       "      <td>car</td>\n",
       "      <td>110</td>\n",
       "      <td>1892</td>\n",
       "      <td>171</td>\n",
       "      <td>1576</td>\n",
       "      <td>0.488770</td>\n",
       "      <td>0.525888</td>\n",
       "      <td>0.870117</td>\n",
       "      <td>0.845876</td>\n",
       "    </tr>\n",
       "    <tr>\n",
       "      <th>5</th>\n",
       "      <td>02.jpg</td>\n",
       "      <td>2048</td>\n",
       "      <td>1661</td>\n",
       "      <td>man</td>\n",
       "      <td>1703</td>\n",
       "      <td>1808</td>\n",
       "      <td>325</td>\n",
       "      <td>540</td>\n",
       "      <td>0.857178</td>\n",
       "      <td>0.260385</td>\n",
       "      <td>0.051270</td>\n",
       "      <td>0.129440</td>\n",
       "    </tr>\n",
       "    <tr>\n",
       "      <th>6</th>\n",
       "      <td>02.jpg</td>\n",
       "      <td>2048</td>\n",
       "      <td>1661</td>\n",
       "      <td>car</td>\n",
       "      <td>1844</td>\n",
       "      <td>1972</td>\n",
       "      <td>350</td>\n",
       "      <td>530</td>\n",
       "      <td>0.931641</td>\n",
       "      <td>0.264901</td>\n",
       "      <td>0.062500</td>\n",
       "      <td>0.108368</td>\n",
       "    </tr>\n",
       "    <tr>\n",
       "      <th>7</th>\n",
       "      <td>03.jpg</td>\n",
       "      <td>640</td>\n",
       "      <td>480</td>\n",
       "      <td>car</td>\n",
       "      <td>21</td>\n",
       "      <td>635</td>\n",
       "      <td>103</td>\n",
       "      <td>392</td>\n",
       "      <td>0.512500</td>\n",
       "      <td>0.515625</td>\n",
       "      <td>0.959375</td>\n",
       "      <td>0.602083</td>\n",
       "    </tr>\n",
       "    <tr>\n",
       "      <th>8</th>\n",
       "      <td>04.jpg</td>\n",
       "      <td>2048</td>\n",
       "      <td>1536</td>\n",
       "      <td>car</td>\n",
       "      <td>21</td>\n",
       "      <td>2033</td>\n",
       "      <td>898</td>\n",
       "      <td>1465</td>\n",
       "      <td>0.501465</td>\n",
       "      <td>0.769206</td>\n",
       "      <td>0.982422</td>\n",
       "      <td>0.369141</td>\n",
       "    </tr>\n",
       "    <tr>\n",
       "      <th>9</th>\n",
       "      <td>05.jpg</td>\n",
       "      <td>2048</td>\n",
       "      <td>1301</td>\n",
       "      <td>car</td>\n",
       "      <td>299</td>\n",
       "      <td>1703</td>\n",
       "      <td>591</td>\n",
       "      <td>1137</td>\n",
       "      <td>0.488770</td>\n",
       "      <td>0.664105</td>\n",
       "      <td>0.685547</td>\n",
       "      <td>0.419677</td>\n",
       "    </tr>\n",
       "  </tbody>\n",
       "</table>\n",
       "</div>"
      ],
      "text/plain": [
       "  filename  width  height   name  xmin  xmax  ymin  ymax  center_x  center_y  \\\n",
       "0   01.jpg   1024     684    man    98   350   150   530  0.218750  0.497076   \n",
       "1   01.jpg   1024     684    man   321   658    94   684  0.478027  0.568713   \n",
       "2   01.jpg   1024     684  women   666   896   116   663  0.762695  0.569444   \n",
       "3   01.jpg   1024     684  women   904  1024    56   539  0.941406  0.434942   \n",
       "4   02.jpg   2048    1661    car   110  1892   171  1576  0.488770  0.525888   \n",
       "5   02.jpg   2048    1661    man  1703  1808   325   540  0.857178  0.260385   \n",
       "6   02.jpg   2048    1661    car  1844  1972   350   530  0.931641  0.264901   \n",
       "7   03.jpg    640     480    car    21   635   103   392  0.512500  0.515625   \n",
       "8   04.jpg   2048    1536    car    21  2033   898  1465  0.501465  0.769206   \n",
       "9   05.jpg   2048    1301    car   299  1703   591  1137  0.488770  0.664105   \n",
       "\n",
       "          w         h  \n",
       "0  0.246094  0.555556  \n",
       "1  0.329102  0.862573  \n",
       "2  0.224609  0.799708  \n",
       "3  0.117188  0.706140  \n",
       "4  0.870117  0.845876  \n",
       "5  0.051270  0.129440  \n",
       "6  0.062500  0.108368  \n",
       "7  0.959375  0.602083  \n",
       "8  0.982422  0.369141  \n",
       "9  0.685547  0.419677  "
      ]
     },
     "execution_count": 20,
     "metadata": {},
     "output_type": "execute_result"
    }
   ],
   "source": [
    "df"
   ]
  },
  {
   "cell_type": "markdown",
   "id": "3b41011b-97da-44f1-b4e6-dbe8068e69dc",
   "metadata": {},
   "source": [
    "# Split the data into train and test data"
   ]
  },
  {
   "cell_type": "code",
   "execution_count": 21,
   "id": "577f560f-48ee-44c2-8290-890aef830a0f",
   "metadata": {},
   "outputs": [],
   "source": [
    "images = df['filename'].unique()"
   ]
  },
  {
   "cell_type": "code",
   "execution_count": 22,
   "id": "82c514a3-5de8-4dfa-86d0-3cff5990edce",
   "metadata": {},
   "outputs": [
    {
     "data": {
      "text/plain": [
       "5"
      ]
     },
     "execution_count": 22,
     "metadata": {},
     "output_type": "execute_result"
    }
   ],
   "source": [
    "len(images)"
   ]
  },
  {
   "cell_type": "code",
   "execution_count": 23,
   "id": "42b312d0-823d-4a0e-a7a8-9ed851a95b8c",
   "metadata": {},
   "outputs": [],
   "source": [
    "# 80% train and 20% test\n",
    "img_df = pd.DataFrame(images,columns=['filename'])\n",
    "img_train = tuple(img_df.sample(frac=0.8)['filename']) # shuffle and pick 80% of images"
   ]
  },
  {
   "cell_type": "code",
   "execution_count": 24,
   "id": "e17559fb-15c2-4433-b1fb-c753935b9c6d",
   "metadata": {},
   "outputs": [
    {
     "data": {
      "text/plain": [
       "('05.jpg', '03.jpg', '04.jpg', '01.jpg')"
      ]
     },
     "execution_count": 24,
     "metadata": {},
     "output_type": "execute_result"
    }
   ],
   "source": [
    "img_train"
   ]
  },
  {
   "cell_type": "code",
   "execution_count": 25,
   "id": "ff23b6cc-ccf9-4350-8e61-42f6090042f0",
   "metadata": {},
   "outputs": [],
   "source": [
    "img_test = tuple(img_df.query(f'filename not in {img_train}')['filename']) # take rest 20% images"
   ]
  },
  {
   "cell_type": "code",
   "execution_count": 26,
   "id": "ab52ae8b-250d-4f49-b431-e08defe6b91b",
   "metadata": {},
   "outputs": [
    {
     "data": {
      "text/plain": [
       "('02.jpg',)"
      ]
     },
     "execution_count": 26,
     "metadata": {},
     "output_type": "execute_result"
    }
   ],
   "source": [
    "img_test"
   ]
  },
  {
   "cell_type": "code",
   "execution_count": 27,
   "id": "5a89ffb5-79b2-4a8b-9a7a-114ca6dd680c",
   "metadata": {},
   "outputs": [
    {
     "data": {
      "text/plain": [
       "(4, 1)"
      ]
     },
     "execution_count": 27,
     "metadata": {},
     "output_type": "execute_result"
    }
   ],
   "source": [
    "len(img_train), len(img_test)"
   ]
  },
  {
   "cell_type": "code",
   "execution_count": 29,
   "id": "bcff429b-a79e-4032-9e8e-d09bb5d7f1de",
   "metadata": {},
   "outputs": [],
   "source": [
    "train_df=df.query(f'filename in {img_train}')\n",
    "test_df=df.query(f'filename in {img_test}')"
   ]
  },
  {
   "cell_type": "code",
   "execution_count": 30,
   "id": "f9c66098-6b52-4b19-93a7-83087fae0cd0",
   "metadata": {},
   "outputs": [
    {
     "data": {
      "text/html": [
       "<div>\n",
       "<style scoped>\n",
       "    .dataframe tbody tr th:only-of-type {\n",
       "        vertical-align: middle;\n",
       "    }\n",
       "\n",
       "    .dataframe tbody tr th {\n",
       "        vertical-align: top;\n",
       "    }\n",
       "\n",
       "    .dataframe thead th {\n",
       "        text-align: right;\n",
       "    }\n",
       "</style>\n",
       "<table border=\"1\" class=\"dataframe\">\n",
       "  <thead>\n",
       "    <tr style=\"text-align: right;\">\n",
       "      <th></th>\n",
       "      <th>filename</th>\n",
       "      <th>width</th>\n",
       "      <th>height</th>\n",
       "      <th>name</th>\n",
       "      <th>xmin</th>\n",
       "      <th>xmax</th>\n",
       "      <th>ymin</th>\n",
       "      <th>ymax</th>\n",
       "      <th>center_x</th>\n",
       "      <th>center_y</th>\n",
       "      <th>w</th>\n",
       "      <th>h</th>\n",
       "    </tr>\n",
       "  </thead>\n",
       "  <tbody>\n",
       "    <tr>\n",
       "      <th>0</th>\n",
       "      <td>01.jpg</td>\n",
       "      <td>1024</td>\n",
       "      <td>684</td>\n",
       "      <td>man</td>\n",
       "      <td>98</td>\n",
       "      <td>350</td>\n",
       "      <td>150</td>\n",
       "      <td>530</td>\n",
       "      <td>0.218750</td>\n",
       "      <td>0.497076</td>\n",
       "      <td>0.246094</td>\n",
       "      <td>0.555556</td>\n",
       "    </tr>\n",
       "    <tr>\n",
       "      <th>1</th>\n",
       "      <td>01.jpg</td>\n",
       "      <td>1024</td>\n",
       "      <td>684</td>\n",
       "      <td>man</td>\n",
       "      <td>321</td>\n",
       "      <td>658</td>\n",
       "      <td>94</td>\n",
       "      <td>684</td>\n",
       "      <td>0.478027</td>\n",
       "      <td>0.568713</td>\n",
       "      <td>0.329102</td>\n",
       "      <td>0.862573</td>\n",
       "    </tr>\n",
       "    <tr>\n",
       "      <th>2</th>\n",
       "      <td>01.jpg</td>\n",
       "      <td>1024</td>\n",
       "      <td>684</td>\n",
       "      <td>women</td>\n",
       "      <td>666</td>\n",
       "      <td>896</td>\n",
       "      <td>116</td>\n",
       "      <td>663</td>\n",
       "      <td>0.762695</td>\n",
       "      <td>0.569444</td>\n",
       "      <td>0.224609</td>\n",
       "      <td>0.799708</td>\n",
       "    </tr>\n",
       "    <tr>\n",
       "      <th>3</th>\n",
       "      <td>01.jpg</td>\n",
       "      <td>1024</td>\n",
       "      <td>684</td>\n",
       "      <td>women</td>\n",
       "      <td>904</td>\n",
       "      <td>1024</td>\n",
       "      <td>56</td>\n",
       "      <td>539</td>\n",
       "      <td>0.941406</td>\n",
       "      <td>0.434942</td>\n",
       "      <td>0.117188</td>\n",
       "      <td>0.706140</td>\n",
       "    </tr>\n",
       "    <tr>\n",
       "      <th>7</th>\n",
       "      <td>03.jpg</td>\n",
       "      <td>640</td>\n",
       "      <td>480</td>\n",
       "      <td>car</td>\n",
       "      <td>21</td>\n",
       "      <td>635</td>\n",
       "      <td>103</td>\n",
       "      <td>392</td>\n",
       "      <td>0.512500</td>\n",
       "      <td>0.515625</td>\n",
       "      <td>0.959375</td>\n",
       "      <td>0.602083</td>\n",
       "    </tr>\n",
       "    <tr>\n",
       "      <th>8</th>\n",
       "      <td>04.jpg</td>\n",
       "      <td>2048</td>\n",
       "      <td>1536</td>\n",
       "      <td>car</td>\n",
       "      <td>21</td>\n",
       "      <td>2033</td>\n",
       "      <td>898</td>\n",
       "      <td>1465</td>\n",
       "      <td>0.501465</td>\n",
       "      <td>0.769206</td>\n",
       "      <td>0.982422</td>\n",
       "      <td>0.369141</td>\n",
       "    </tr>\n",
       "    <tr>\n",
       "      <th>9</th>\n",
       "      <td>05.jpg</td>\n",
       "      <td>2048</td>\n",
       "      <td>1301</td>\n",
       "      <td>car</td>\n",
       "      <td>299</td>\n",
       "      <td>1703</td>\n",
       "      <td>591</td>\n",
       "      <td>1137</td>\n",
       "      <td>0.488770</td>\n",
       "      <td>0.664105</td>\n",
       "      <td>0.685547</td>\n",
       "      <td>0.419677</td>\n",
       "    </tr>\n",
       "  </tbody>\n",
       "</table>\n",
       "</div>"
      ],
      "text/plain": [
       "  filename  width  height   name  xmin  xmax  ymin  ymax  center_x  center_y  \\\n",
       "0   01.jpg   1024     684    man    98   350   150   530  0.218750  0.497076   \n",
       "1   01.jpg   1024     684    man   321   658    94   684  0.478027  0.568713   \n",
       "2   01.jpg   1024     684  women   666   896   116   663  0.762695  0.569444   \n",
       "3   01.jpg   1024     684  women   904  1024    56   539  0.941406  0.434942   \n",
       "7   03.jpg    640     480    car    21   635   103   392  0.512500  0.515625   \n",
       "8   04.jpg   2048    1536    car    21  2033   898  1465  0.501465  0.769206   \n",
       "9   05.jpg   2048    1301    car   299  1703   591  1137  0.488770  0.664105   \n",
       "\n",
       "          w         h  \n",
       "0  0.246094  0.555556  \n",
       "1  0.329102  0.862573  \n",
       "2  0.224609  0.799708  \n",
       "3  0.117188  0.706140  \n",
       "7  0.959375  0.602083  \n",
       "8  0.982422  0.369141  \n",
       "9  0.685547  0.419677  "
      ]
     },
     "execution_count": 30,
     "metadata": {},
     "output_type": "execute_result"
    }
   ],
   "source": [
    "train_df"
   ]
  },
  {
   "cell_type": "code",
   "execution_count": 31,
   "id": "68844646-8f7e-474c-b0ef-8d93ff07027c",
   "metadata": {},
   "outputs": [
    {
     "data": {
      "text/html": [
       "<div>\n",
       "<style scoped>\n",
       "    .dataframe tbody tr th:only-of-type {\n",
       "        vertical-align: middle;\n",
       "    }\n",
       "\n",
       "    .dataframe tbody tr th {\n",
       "        vertical-align: top;\n",
       "    }\n",
       "\n",
       "    .dataframe thead th {\n",
       "        text-align: right;\n",
       "    }\n",
       "</style>\n",
       "<table border=\"1\" class=\"dataframe\">\n",
       "  <thead>\n",
       "    <tr style=\"text-align: right;\">\n",
       "      <th></th>\n",
       "      <th>filename</th>\n",
       "      <th>width</th>\n",
       "      <th>height</th>\n",
       "      <th>name</th>\n",
       "      <th>xmin</th>\n",
       "      <th>xmax</th>\n",
       "      <th>ymin</th>\n",
       "      <th>ymax</th>\n",
       "      <th>center_x</th>\n",
       "      <th>center_y</th>\n",
       "      <th>w</th>\n",
       "      <th>h</th>\n",
       "    </tr>\n",
       "  </thead>\n",
       "  <tbody>\n",
       "    <tr>\n",
       "      <th>4</th>\n",
       "      <td>02.jpg</td>\n",
       "      <td>2048</td>\n",
       "      <td>1661</td>\n",
       "      <td>car</td>\n",
       "      <td>110</td>\n",
       "      <td>1892</td>\n",
       "      <td>171</td>\n",
       "      <td>1576</td>\n",
       "      <td>0.488770</td>\n",
       "      <td>0.525888</td>\n",
       "      <td>0.870117</td>\n",
       "      <td>0.845876</td>\n",
       "    </tr>\n",
       "    <tr>\n",
       "      <th>5</th>\n",
       "      <td>02.jpg</td>\n",
       "      <td>2048</td>\n",
       "      <td>1661</td>\n",
       "      <td>man</td>\n",
       "      <td>1703</td>\n",
       "      <td>1808</td>\n",
       "      <td>325</td>\n",
       "      <td>540</td>\n",
       "      <td>0.857178</td>\n",
       "      <td>0.260385</td>\n",
       "      <td>0.051270</td>\n",
       "      <td>0.129440</td>\n",
       "    </tr>\n",
       "    <tr>\n",
       "      <th>6</th>\n",
       "      <td>02.jpg</td>\n",
       "      <td>2048</td>\n",
       "      <td>1661</td>\n",
       "      <td>car</td>\n",
       "      <td>1844</td>\n",
       "      <td>1972</td>\n",
       "      <td>350</td>\n",
       "      <td>530</td>\n",
       "      <td>0.931641</td>\n",
       "      <td>0.264901</td>\n",
       "      <td>0.062500</td>\n",
       "      <td>0.108368</td>\n",
       "    </tr>\n",
       "  </tbody>\n",
       "</table>\n",
       "</div>"
      ],
      "text/plain": [
       "  filename  width  height name  xmin  xmax  ymin  ymax  center_x  center_y  \\\n",
       "4   02.jpg   2048    1661  car   110  1892   171  1576  0.488770  0.525888   \n",
       "5   02.jpg   2048    1661  man  1703  1808   325   540  0.857178  0.260385   \n",
       "6   02.jpg   2048    1661  car  1844  1972   350   530  0.931641  0.264901   \n",
       "\n",
       "          w         h  \n",
       "4  0.870117  0.845876  \n",
       "5  0.051270  0.129440  \n",
       "6  0.062500  0.108368  "
      ]
     },
     "execution_count": 31,
     "metadata": {},
     "output_type": "execute_result"
    }
   ],
   "source": [
    "test_df"
   ]
  },
  {
   "cell_type": "markdown",
   "id": "360c694b-c045-4b7d-bc61-6947861b6860",
   "metadata": {},
   "source": [
    "# Assign an id number to the name column"
   ]
  },
  {
   "cell_type": "code",
   "execution_count": 32,
   "id": "517a4132-1c84-45fd-a970-972ae3d1e92f",
   "metadata": {},
   "outputs": [],
   "source": [
    "# we assign the id number because YOLO is a deep learning model and to process the data the model need a numeric data as a \n",
    "# Machine Learning model doesn't understand the text .So to convert the text into numeric form this process is called label encoding \n",
    "\n"
   ]
  },
  {
   "cell_type": "code",
   "execution_count": 40,
   "id": "32b5cd7d-ea3c-4a23-aac2-b4577dd9e7d1",
   "metadata": {},
   "outputs": [],
   "source": [
    "# label encoding\n",
    "def label_encoding(x):\n",
    "    labels = {'man':0, 'car':1, 'women':2, 'bottle':3, 'pottedplant':4, 'bird':5, 'dog':6,\n",
    "       'sofa':7, 'bicycle':8, 'horse':9, 'boat':10, 'motorbike':11, 'cat':12, 'tvmonitor':13,\n",
    "       'cow':14, 'sheep':15, 'aeroplane':16, 'train':17, 'diningtable':18, 'bus':19}\n",
    "    return labels[x]"
   ]
  },
  {
   "cell_type": "code",
   "execution_count": 41,
   "id": "74f854b8-8b9f-4ec4-bd04-ecff6e9546b1",
   "metadata": {},
   "outputs": [
    {
     "name": "stderr",
     "output_type": "stream",
     "text": [
      "C:\\Users\\Lenovo\\AppData\\Local\\Temp\\ipykernel_15728\\3116627190.py:1: SettingWithCopyWarning: \n",
      "A value is trying to be set on a copy of a slice from a DataFrame.\n",
      "Try using .loc[row_indexer,col_indexer] = value instead\n",
      "\n",
      "See the caveats in the documentation: https://pandas.pydata.org/pandas-docs/stable/user_guide/indexing.html#returning-a-view-versus-a-copy\n",
      "  train_df['id'] = train_df['name'].apply(label_encoding)\n",
      "C:\\Users\\Lenovo\\AppData\\Local\\Temp\\ipykernel_15728\\3116627190.py:2: SettingWithCopyWarning: \n",
      "A value is trying to be set on a copy of a slice from a DataFrame.\n",
      "Try using .loc[row_indexer,col_indexer] = value instead\n",
      "\n",
      "See the caveats in the documentation: https://pandas.pydata.org/pandas-docs/stable/user_guide/indexing.html#returning-a-view-versus-a-copy\n",
      "  test_df['id'] = test_df['name'].apply(label_encoding)\n"
     ]
    }
   ],
   "source": [
    "train_df['id'] = train_df['name'].apply(label_encoding)\n",
    "test_df['id'] = test_df['name'].apply(label_encoding)"
   ]
  },
  {
   "cell_type": "code",
   "execution_count": 42,
   "id": "6051a83b-b538-4548-a5c0-0b466d9c4553",
   "metadata": {},
   "outputs": [
    {
     "data": {
      "text/html": [
       "<div>\n",
       "<style scoped>\n",
       "    .dataframe tbody tr th:only-of-type {\n",
       "        vertical-align: middle;\n",
       "    }\n",
       "\n",
       "    .dataframe tbody tr th {\n",
       "        vertical-align: top;\n",
       "    }\n",
       "\n",
       "    .dataframe thead th {\n",
       "        text-align: right;\n",
       "    }\n",
       "</style>\n",
       "<table border=\"1\" class=\"dataframe\">\n",
       "  <thead>\n",
       "    <tr style=\"text-align: right;\">\n",
       "      <th></th>\n",
       "      <th>filename</th>\n",
       "      <th>width</th>\n",
       "      <th>height</th>\n",
       "      <th>name</th>\n",
       "      <th>xmin</th>\n",
       "      <th>xmax</th>\n",
       "      <th>ymin</th>\n",
       "      <th>ymax</th>\n",
       "      <th>center_x</th>\n",
       "      <th>center_y</th>\n",
       "      <th>w</th>\n",
       "      <th>h</th>\n",
       "      <th>id</th>\n",
       "    </tr>\n",
       "  </thead>\n",
       "  <tbody>\n",
       "    <tr>\n",
       "      <th>0</th>\n",
       "      <td>01.jpg</td>\n",
       "      <td>1024</td>\n",
       "      <td>684</td>\n",
       "      <td>man</td>\n",
       "      <td>98</td>\n",
       "      <td>350</td>\n",
       "      <td>150</td>\n",
       "      <td>530</td>\n",
       "      <td>0.218750</td>\n",
       "      <td>0.497076</td>\n",
       "      <td>0.246094</td>\n",
       "      <td>0.555556</td>\n",
       "      <td>0</td>\n",
       "    </tr>\n",
       "    <tr>\n",
       "      <th>1</th>\n",
       "      <td>01.jpg</td>\n",
       "      <td>1024</td>\n",
       "      <td>684</td>\n",
       "      <td>man</td>\n",
       "      <td>321</td>\n",
       "      <td>658</td>\n",
       "      <td>94</td>\n",
       "      <td>684</td>\n",
       "      <td>0.478027</td>\n",
       "      <td>0.568713</td>\n",
       "      <td>0.329102</td>\n",
       "      <td>0.862573</td>\n",
       "      <td>0</td>\n",
       "    </tr>\n",
       "    <tr>\n",
       "      <th>2</th>\n",
       "      <td>01.jpg</td>\n",
       "      <td>1024</td>\n",
       "      <td>684</td>\n",
       "      <td>women</td>\n",
       "      <td>666</td>\n",
       "      <td>896</td>\n",
       "      <td>116</td>\n",
       "      <td>663</td>\n",
       "      <td>0.762695</td>\n",
       "      <td>0.569444</td>\n",
       "      <td>0.224609</td>\n",
       "      <td>0.799708</td>\n",
       "      <td>2</td>\n",
       "    </tr>\n",
       "    <tr>\n",
       "      <th>3</th>\n",
       "      <td>01.jpg</td>\n",
       "      <td>1024</td>\n",
       "      <td>684</td>\n",
       "      <td>women</td>\n",
       "      <td>904</td>\n",
       "      <td>1024</td>\n",
       "      <td>56</td>\n",
       "      <td>539</td>\n",
       "      <td>0.941406</td>\n",
       "      <td>0.434942</td>\n",
       "      <td>0.117188</td>\n",
       "      <td>0.706140</td>\n",
       "      <td>2</td>\n",
       "    </tr>\n",
       "    <tr>\n",
       "      <th>7</th>\n",
       "      <td>03.jpg</td>\n",
       "      <td>640</td>\n",
       "      <td>480</td>\n",
       "      <td>car</td>\n",
       "      <td>21</td>\n",
       "      <td>635</td>\n",
       "      <td>103</td>\n",
       "      <td>392</td>\n",
       "      <td>0.512500</td>\n",
       "      <td>0.515625</td>\n",
       "      <td>0.959375</td>\n",
       "      <td>0.602083</td>\n",
       "      <td>1</td>\n",
       "    </tr>\n",
       "    <tr>\n",
       "      <th>8</th>\n",
       "      <td>04.jpg</td>\n",
       "      <td>2048</td>\n",
       "      <td>1536</td>\n",
       "      <td>car</td>\n",
       "      <td>21</td>\n",
       "      <td>2033</td>\n",
       "      <td>898</td>\n",
       "      <td>1465</td>\n",
       "      <td>0.501465</td>\n",
       "      <td>0.769206</td>\n",
       "      <td>0.982422</td>\n",
       "      <td>0.369141</td>\n",
       "      <td>1</td>\n",
       "    </tr>\n",
       "    <tr>\n",
       "      <th>9</th>\n",
       "      <td>05.jpg</td>\n",
       "      <td>2048</td>\n",
       "      <td>1301</td>\n",
       "      <td>car</td>\n",
       "      <td>299</td>\n",
       "      <td>1703</td>\n",
       "      <td>591</td>\n",
       "      <td>1137</td>\n",
       "      <td>0.488770</td>\n",
       "      <td>0.664105</td>\n",
       "      <td>0.685547</td>\n",
       "      <td>0.419677</td>\n",
       "      <td>1</td>\n",
       "    </tr>\n",
       "  </tbody>\n",
       "</table>\n",
       "</div>"
      ],
      "text/plain": [
       "  filename  width  height   name  xmin  xmax  ymin  ymax  center_x  center_y  \\\n",
       "0   01.jpg   1024     684    man    98   350   150   530  0.218750  0.497076   \n",
       "1   01.jpg   1024     684    man   321   658    94   684  0.478027  0.568713   \n",
       "2   01.jpg   1024     684  women   666   896   116   663  0.762695  0.569444   \n",
       "3   01.jpg   1024     684  women   904  1024    56   539  0.941406  0.434942   \n",
       "7   03.jpg    640     480    car    21   635   103   392  0.512500  0.515625   \n",
       "8   04.jpg   2048    1536    car    21  2033   898  1465  0.501465  0.769206   \n",
       "9   05.jpg   2048    1301    car   299  1703   591  1137  0.488770  0.664105   \n",
       "\n",
       "          w         h  id  \n",
       "0  0.246094  0.555556   0  \n",
       "1  0.329102  0.862573   0  \n",
       "2  0.224609  0.799708   2  \n",
       "3  0.117188  0.706140   2  \n",
       "7  0.959375  0.602083   1  \n",
       "8  0.982422  0.369141   1  \n",
       "9  0.685547  0.419677   1  "
      ]
     },
     "execution_count": 42,
     "metadata": {},
     "output_type": "execute_result"
    }
   ],
   "source": [
    "train_df"
   ]
  },
  {
   "cell_type": "code",
   "execution_count": 43,
   "id": "943faffe-fcef-4a0d-b294-387227d8b860",
   "metadata": {},
   "outputs": [
    {
     "data": {
      "text/html": [
       "<div>\n",
       "<style scoped>\n",
       "    .dataframe tbody tr th:only-of-type {\n",
       "        vertical-align: middle;\n",
       "    }\n",
       "\n",
       "    .dataframe tbody tr th {\n",
       "        vertical-align: top;\n",
       "    }\n",
       "\n",
       "    .dataframe thead th {\n",
       "        text-align: right;\n",
       "    }\n",
       "</style>\n",
       "<table border=\"1\" class=\"dataframe\">\n",
       "  <thead>\n",
       "    <tr style=\"text-align: right;\">\n",
       "      <th></th>\n",
       "      <th>filename</th>\n",
       "      <th>width</th>\n",
       "      <th>height</th>\n",
       "      <th>name</th>\n",
       "      <th>xmin</th>\n",
       "      <th>xmax</th>\n",
       "      <th>ymin</th>\n",
       "      <th>ymax</th>\n",
       "      <th>center_x</th>\n",
       "      <th>center_y</th>\n",
       "      <th>w</th>\n",
       "      <th>h</th>\n",
       "      <th>id</th>\n",
       "    </tr>\n",
       "  </thead>\n",
       "  <tbody>\n",
       "    <tr>\n",
       "      <th>4</th>\n",
       "      <td>02.jpg</td>\n",
       "      <td>2048</td>\n",
       "      <td>1661</td>\n",
       "      <td>car</td>\n",
       "      <td>110</td>\n",
       "      <td>1892</td>\n",
       "      <td>171</td>\n",
       "      <td>1576</td>\n",
       "      <td>0.488770</td>\n",
       "      <td>0.525888</td>\n",
       "      <td>0.870117</td>\n",
       "      <td>0.845876</td>\n",
       "      <td>1</td>\n",
       "    </tr>\n",
       "    <tr>\n",
       "      <th>5</th>\n",
       "      <td>02.jpg</td>\n",
       "      <td>2048</td>\n",
       "      <td>1661</td>\n",
       "      <td>man</td>\n",
       "      <td>1703</td>\n",
       "      <td>1808</td>\n",
       "      <td>325</td>\n",
       "      <td>540</td>\n",
       "      <td>0.857178</td>\n",
       "      <td>0.260385</td>\n",
       "      <td>0.051270</td>\n",
       "      <td>0.129440</td>\n",
       "      <td>0</td>\n",
       "    </tr>\n",
       "    <tr>\n",
       "      <th>6</th>\n",
       "      <td>02.jpg</td>\n",
       "      <td>2048</td>\n",
       "      <td>1661</td>\n",
       "      <td>car</td>\n",
       "      <td>1844</td>\n",
       "      <td>1972</td>\n",
       "      <td>350</td>\n",
       "      <td>530</td>\n",
       "      <td>0.931641</td>\n",
       "      <td>0.264901</td>\n",
       "      <td>0.062500</td>\n",
       "      <td>0.108368</td>\n",
       "      <td>1</td>\n",
       "    </tr>\n",
       "  </tbody>\n",
       "</table>\n",
       "</div>"
      ],
      "text/plain": [
       "  filename  width  height name  xmin  xmax  ymin  ymax  center_x  center_y  \\\n",
       "4   02.jpg   2048    1661  car   110  1892   171  1576  0.488770  0.525888   \n",
       "5   02.jpg   2048    1661  man  1703  1808   325   540  0.857178  0.260385   \n",
       "6   02.jpg   2048    1661  car  1844  1972   350   530  0.931641  0.264901   \n",
       "\n",
       "          w         h  id  \n",
       "4  0.870117  0.845876   1  \n",
       "5  0.051270  0.129440   0  \n",
       "6  0.062500  0.108368   1  "
      ]
     },
     "execution_count": 43,
     "metadata": {},
     "output_type": "execute_result"
    }
   ],
   "source": [
    "test_df"
   ]
  },
  {
   "cell_type": "markdown",
   "id": "e961172b-cc05-422f-88ee-38026671f0b7",
   "metadata": {},
   "source": [
    "# Save Images and labels in a text"
   ]
  },
  {
   "cell_type": "code",
   "execution_count": 44,
   "id": "7778a75b-db0b-40cd-9afc-c44bea1b8e37",
   "metadata": {},
   "outputs": [],
   "source": [
    "import os\n",
    "from shutil import move # It is used to handle the xml files"
   ]
  },
  {
   "cell_type": "code",
   "execution_count": 45,
   "id": "4b67bf78-9c50-4b7b-b0a0-c8ef9c0ed234",
   "metadata": {},
   "outputs": [],
   "source": [
    "# To save the train and test data we are going to create two separate folders that contain the test_df and train_df images\n",
    "train_folder = 'data_images/train'\n",
    "test_folder = 'data_images/test'\n",
    "\n",
    "\n",
    "os.mkdir(train_folder)\n",
    "os.mkdir(test_folder)"
   ]
  },
  {
   "cell_type": "code",
   "execution_count": 46,
   "id": "5debe769-df9a-4ad6-816b-edaab774b642",
   "metadata": {},
   "outputs": [],
   "source": [
    "# From the dataframe we require only few parameters so we group them and store in a separate variable \n",
    "cols = ['filename','id','center_x','center_y', 'w', 'h']\n",
    "groupby_obj_train = train_df[cols].groupby('filename')\n",
    "groupby_obj_test = test_df[cols].groupby('filename')"
   ]
  },
  {
   "cell_type": "code",
   "execution_count": 47,
   "id": "4095c802-a32a-4d23-bcf7-2269944192d0",
   "metadata": {},
   "outputs": [],
   "source": [
    "# Next we are going to save the information of same image in a separate txt file\n",
    "# save each image in train/test folder and repective labels in .txt\n",
    "def save_data(filename, folder_path, group_obj):\n",
    "    # move image\n",
    "    src = os.path.join('data_images',filename)\n",
    "    dst = os.path.join(folder_path,filename)\n",
    "    move(src,dst) # move image to the destination folder\n",
    "    \n",
    "    # save the labels\n",
    "    text_filename = os.path.join(folder_path,\n",
    "                                 os.path.splitext(filename)[0]+'.txt')\n",
    "    group_obj.get_group(filename).set_index('filename').to_csv(text_filename,sep=' ',index=False,header=False)\n",
    "    "
   ]
  },
  {
   "cell_type": "code",
   "execution_count": 48,
   "id": "338ff3d1-8b69-480b-b0b6-655f66c619ce",
   "metadata": {},
   "outputs": [],
   "source": [
    "filename_series = pd.Series(groupby_obj_train.groups.keys())"
   ]
  },
  {
   "cell_type": "code",
   "execution_count": 49,
   "id": "7889d365-6782-4f49-b61b-6796b3ab073e",
   "metadata": {},
   "outputs": [
    {
     "data": {
      "text/plain": [
       "0    01.jpg\n",
       "1    03.jpg\n",
       "2    04.jpg\n",
       "3    05.jpg\n",
       "dtype: object"
      ]
     },
     "execution_count": 49,
     "metadata": {},
     "output_type": "execute_result"
    }
   ],
   "source": [
    "filename_series"
   ]
  },
  {
   "cell_type": "code",
   "execution_count": 50,
   "id": "d833a23d-0e20-481a-be4d-92c7f8ef8b32",
   "metadata": {},
   "outputs": [
    {
     "data": {
      "text/plain": [
       "0    None\n",
       "1    None\n",
       "2    None\n",
       "3    None\n",
       "dtype: object"
      ]
     },
     "execution_count": 50,
     "metadata": {},
     "output_type": "execute_result"
    }
   ],
   "source": [
    "filename_series.apply(save_data,args=(train_folder,groupby_obj_train))"
   ]
  },
  {
   "cell_type": "code",
   "execution_count": 51,
   "id": "af7b785c-10e2-4727-99f2-622980c710e4",
   "metadata": {},
   "outputs": [
    {
     "data": {
      "text/plain": [
       "0    None\n",
       "dtype: object"
      ]
     },
     "execution_count": 51,
     "metadata": {},
     "output_type": "execute_result"
    }
   ],
   "source": [
    "filename_series_test = pd.Series(groupby_obj_test.groups.keys())\n",
    "filename_series_test.apply(save_data,args=(test_folder,groupby_obj_test))"
   ]
  },
  {
   "cell_type": "code",
   "execution_count": null,
   "id": "846616ca-75ec-4335-aae0-fe671a4ebd8e",
   "metadata": {},
   "outputs": [],
   "source": []
  }
 ],
 "metadata": {
  "kernelspec": {
   "display_name": "Python 3 (ipykernel)",
   "language": "python",
   "name": "python3"
  },
  "language_info": {
   "codemirror_mode": {
    "name": "ipython",
    "version": 3
   },
   "file_extension": ".py",
   "mimetype": "text/x-python",
   "name": "python",
   "nbconvert_exporter": "python",
   "pygments_lexer": "ipython3",
   "version": "3.9.7"
  }
 },
 "nbformat": 4,
 "nbformat_minor": 5
}
